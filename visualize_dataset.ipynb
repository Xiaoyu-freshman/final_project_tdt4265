{
 "cells": [
  {
   "cell_type": "code",
   "execution_count": 1,
   "metadata": {},
   "outputs": [],
   "source": [
    "import numpy as np\n",
    "import matplotlib.pyplot as plt\n",
    "from train import get_parser\n",
    "from ssd.config.defaults import cfg\n",
    "from ssd.data.build import make_data_loader\n",
    "from vizer.draw import draw_boxes\n",
    "np.random.seed(0)"
   ]
  },
  {
   "cell_type": "code",
   "execution_count": 2,
   "metadata": {},
   "outputs": [],
   "source": [
    "config_path = \"configs/train_tdt4265.yaml\"\n",
    "cfg.merge_from_file(config_path)\n",
    "cfg.freeze()"
   ]
  },
  {
   "cell_type": "code",
   "execution_count": 3,
   "metadata": {},
   "outputs": [
    {
     "name": "stdout",
     "output_type": "stream",
     "text": [
      "28486\n",
      "Dataset loaded. Subset: val, number of images: 5698\n"
     ]
    }
   ],
   "source": [
    "data_loader = make_data_loader(cfg, is_train=False)\n",
    "if isinstance(data_loader, list):\n",
    "    data_loader = data_loader[0]\n",
    "dataset = data_loader.dataset\n",
    "indices = list(range(len(dataset)))\n",
    "np.random.shuffle(indices)"
   ]
  },
  {
   "cell_type": "code",
   "execution_count": null,
   "metadata": {},
   "outputs": [],
   "source": [
    "idx = indices[3]\n",
    "image = dataset._read_image(idx)\n",
    "boxes, labels = dataset.get_annotation(idx)\n",
    "image = draw_boxes(\n",
    "    image, boxes, labels, class_name_map=dataset.class_names\n",
    ")\n",
    "plt.figure(figsize=(20, 12))\n",
    "plt.imshow(image)\n",
    "plt.imsave(\"visualization.png\", image)\n",
    "print(\"Saved the image to visualization.png\")"
   ]
  },
  {
   "cell_type": "code",
   "execution_count": null,
   "metadata": {},
   "outputs": [],
   "source": []
  }
 ],
 "metadata": {
  "kernelspec": {
   "display_name": "Python 3",
   "language": "python",
   "name": "python3"
  },
  "language_info": {
   "codemirror_mode": {
    "name": "ipython",
    "version": 3
   },
   "file_extension": ".py",
   "mimetype": "text/x-python",
   "name": "python",
   "nbconvert_exporter": "python",
   "pygments_lexer": "ipython3",
   "version": "3.6.10"
  }
 },
 "nbformat": 4,
 "nbformat_minor": 4
}
