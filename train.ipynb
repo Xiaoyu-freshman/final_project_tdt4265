{
 "cells": [
  {
   "cell_type": "code",
   "execution_count": 1,
   "metadata": {},
   "outputs": [],
   "source": [
    "%load_ext autoreload"
   ]
  },
  {
   "cell_type": "code",
   "execution_count": 2,
   "metadata": {},
   "outputs": [],
   "source": [
    "%autoreload \n",
    "import logging\n",
    "import os\n",
    "import pathlib\n",
    "import torch\n",
    "from ssd.engine.inference import do_evaluation\n",
    "from ssd.config.defaults import cfg\n",
    "from ssd.utils.logger import setup_logger\n",
    "from train import start_train"
   ]
  },
  {
   "cell_type": "code",
   "execution_count": 3,
   "metadata": {},
   "outputs": [
    {
     "name": "stdout",
     "output_type": "stream",
     "text": [
      "2020-04-10 11:01:47,766 SSD INFO: Loaded configuration file configs/train_waymo.yaml\n",
      "2020-04-10 11:01:47,767 SSD INFO: \n",
      "MODEL:\n",
      "    NUM_CLASSES: 5\n",
      "    BACKBONE:\n",
      "        NAME: 'resnet'   #vgg   #'basic'\n",
      "        PRETRAINED: True\n",
      "        OUT_CHANNELS: [512,1024,2048,512, 256, 128]     #[128, 256, 512, 512, 256, 128]\n",
      "        INPUT_CHANNELS: 3\n",
      "        DEPTH: 50\n",
      "INPUT:\n",
      "    IMAGE_SIZE: 300\n",
      "DATASETS:\n",
      "    TRAIN: (\"waymo_train\",)\n",
      "    TEST: (\"waymo_val\", )\n",
      "SOLVER:\n",
      "    CHOICE: 'SGD'\n",
      "    MAX_ITER:  65000\n",
      "    LR_STEPS: [30000, 60000]\n",
      "    GAMMA: 0.1\n",
      "    BATCH_SIZE: 32\n",
      "    LR: 1.e-2\n",
      "OUTPUT_DIR: 'outputs/res50_new_waymo_sgd_1e_f2'  \n",
      "DATASET_DIR: \"datasets\"\n",
      "2020-04-10 11:01:47,767 SSD INFO: Running with config:\n",
      "DATASETS:\n",
      "  TEST: ('waymo_val',)\n",
      "  TRAIN: ('waymo_train',)\n",
      "DATASET_DIR: datasets\n",
      "DATA_LOADER:\n",
      "  NUM_WORKERS: 8\n",
      "  PIN_MEMORY: True\n",
      "EVAL_STEP: 500\n",
      "INPUT:\n",
      "  IMAGE_SIZE: 300\n",
      "  PIXEL_MEAN: [123, 117, 104]\n",
      "LOG_STEP: 10\n",
      "MODEL:\n",
      "  BACKBONE:\n",
      "    AFTER_TRAINED: False\n",
      "    DEPTH: 50\n",
      "    INPUT_CHANNELS: 3\n",
      "    NAME: resnet\n",
      "    OUT_CHANNELS: (512, 1024, 2048, 512, 256, 128)\n",
      "    PRETRAINED: True\n",
      "  BOX_HEAD:\n",
      "    NAME: SSDBoxHead\n",
      "    PREDICTOR: SSDBoxPredictor\n",
      "  CENTER_VARIANCE: 0.1\n",
      "  META_ARCHITECTURE: SSDDetector\n",
      "  NEG_POS_RATIO: 3\n",
      "  NUM_CLASSES: 5\n",
      "  PRIORS:\n",
      "    ASPECT_RATIOS: [[2], [2, 3], [2, 3], [2, 3], [2], [2]]\n",
      "    BOXES_PER_LOCATION: [4, 6, 6, 6, 4, 4]\n",
      "    CLIP: True\n",
      "    FEATURE_MAPS: [38, 19, 10, 5, 3, 1]\n",
      "    MAX_SIZES: [60, 111, 162, 213, 264, 315]\n",
      "    MIN_SIZES: [30, 60, 111, 162, 213, 264]\n",
      "    STRIDES: [8, 16, 32, 64, 100, 300]\n",
      "  SIZE_VARIANCE: 0.2\n",
      "  THRESHOLD: 0.5\n",
      "MODEL_SAVE_STEP: 500\n",
      "OUTPUT_DIR: outputs/res50_new_waymo_sgd_1e_f2\n",
      "SOLVER:\n",
      "  BATCH_SIZE: 32\n",
      "  CHOICE: SGD\n",
      "  GAMMA: 0.1\n",
      "  LR: 0.01\n",
      "  LR_STEPS: [30000, 60000]\n",
      "  MAX_ITER: 65000\n",
      "  MOMENTUM: 0.9\n",
      "  WARMUP_FACTOR: 0.3333333333333333\n",
      "  WARMUP_ITERS: 500\n",
      "  WEIGHT_DECAY: 0.0005\n",
      "TEST:\n",
      "  BATCH_SIZE: 10\n",
      "  CONFIDENCE_THRESHOLD: 0.01\n",
      "  MAX_PER_CLASS: -1\n",
      "  MAX_PER_IMAGE: 100\n",
      "  NMS_THRESHOLD: 0.45\n"
     ]
    }
   ],
   "source": [
    "config_file = \"configs/train_waymo.yaml\"   # train_tdt4265.yaml  train_waymo.yaml\n",
    "\n",
    "cfg.merge_from_file(config_file)\n",
    "cfg.freeze()\n",
    "output_dir = pathlib.Path(cfg.OUTPUT_DIR)\n",
    "output_dir.mkdir(exist_ok=True, parents=True)\n",
    "\n",
    "logger = setup_logger(\"SSD\", output_dir)\n",
    "\n",
    "logger.info(\"Loaded configuration file {}\".format(config_file))\n",
    "with open(config_file, \"r\") as cf:\n",
    "    config_str = \"\\n\" + cf.read()\n",
    "    logger.info(config_str)\n",
    "logger.info(\"Running with config:\\n{}\".format(cfg))\n"
   ]
  },
  {
   "cell_type": "code",
   "execution_count": null,
   "metadata": {
    "scrolled": false
   },
   "outputs": [
    {
     "name": "stdout",
     "output_type": "stream",
     "text": [
      "resnet\n",
      "Detector initialized. Total Number of params:  39.55M\n",
      "Backbone number of parameters: 37.52M\n",
      "SSD Head number of parameters: 2.03M\n",
      "2020-04-10 11:01:51,381 SSD.trainer INFO: No checkpoint found.\n",
      "17936\n",
      "Dataset loaded. Subset: train, number of images: 14348\n",
      "2020-04-10 11:01:52,392 SSD.trainer INFO: Start training ...\n",
      "2020-04-10 11:02:04,255 SSD.trainer INFO: iter: 000010, lr: 0.00347, total_loss: 17.347 (17.347), reg_loss: 7.059 (7.059), cls_loss: 10.288 (10.288), time: 1.087 (1.087), eta: 19:36:54, mem: 9881M\n",
      "2020-04-10 11:02:06,942 SSD.trainer INFO: iter: 000020, lr: 0.00360, total_loss: 12.182 (14.764), reg_loss: 6.006 (6.532), cls_loss: 6.176 (8.232), time: 0.269 (0.678), eta: 12:13:55, mem: 9881M\n",
      "2020-04-10 11:02:09,919 SSD.trainer INFO: iter: 000030, lr: 0.00373, total_loss: 9.657 (13.062), reg_loss: 5.492 (6.185), cls_loss: 4.166 (6.877), time: 0.298 (0.551), eta: 9:56:38, mem: 9881M\n",
      "2020-04-10 11:02:13,978 SSD.trainer INFO: iter: 000040, lr: 0.00387, total_loss: 8.645 (11.958), reg_loss: 5.232 (5.947), cls_loss: 3.413 (6.011), time: 0.406 (0.515), eta: 9:17:16, mem: 9881M\n",
      "2020-04-10 11:02:17,932 SSD.trainer INFO: iter: 000050, lr: 0.00400, total_loss: 8.119 (11.190), reg_loss: 5.013 (5.760), cls_loss: 3.106 (5.430), time: 0.395 (0.491), eta: 8:51:20, mem: 9881M\n",
      "2020-04-10 11:02:21,440 SSD.trainer INFO: iter: 000060, lr: 0.00413, total_loss: 7.526 (10.579), reg_loss: 4.561 (5.560), cls_loss: 2.965 (5.019), time: 0.351 (0.468), eta: 8:26:01, mem: 9881M\n",
      "2020-04-10 11:02:25,738 SSD.trainer INFO: iter: 000070, lr: 0.00427, total_loss: 7.332 (10.115), reg_loss: 4.407 (5.396), cls_loss: 2.925 (4.720), time: 0.430 (0.462), eta: 8:20:06, mem: 9881M\n",
      "2020-04-10 11:02:29,607 SSD.trainer INFO: iter: 000080, lr: 0.00440, total_loss: 7.106 (9.739), reg_loss: 4.241 (5.251), cls_loss: 2.864 (4.488), time: 0.387 (0.453), eta: 8:09:50, mem: 9881M\n",
      "2020-04-10 11:02:33,156 SSD.trainer INFO: iter: 000090, lr: 0.00453, total_loss: 6.914 (9.425), reg_loss: 4.066 (5.120), cls_loss: 2.847 (4.306), time: 0.355 (0.442), eta: 7:58:00, mem: 9881M\n",
      "2020-04-10 11:02:37,158 SSD.trainer INFO: iter: 000100, lr: 0.00467, total_loss: 6.773 (9.160), reg_loss: 3.924 (5.000), cls_loss: 2.848 (4.160), time: 0.400 (0.438), eta: 7:53:25, mem: 9881M\n",
      "2020-04-10 11:02:41,260 SSD.trainer INFO: iter: 000110, lr: 0.00480, total_loss: 6.339 (8.904), reg_loss: 3.612 (4.874), cls_loss: 2.727 (4.030), time: 0.410 (0.435), eta: 7:50:39, mem: 9881M\n",
      "2020-04-10 11:02:51,304 SSD.trainer INFO: iter: 000120, lr: 0.00493, total_loss: 6.288 (8.686), reg_loss: 3.584 (4.766), cls_loss: 2.704 (3.919), time: 1.004 (0.483), eta: 8:41:52, mem: 9881M\n"
     ]
    }
   ],
   "source": [
    "model = start_train(cfg)"
   ]
  },
  {
   "cell_type": "code",
   "execution_count": null,
   "metadata": {},
   "outputs": [],
   "source": [
    "logger.info('Start evaluating...')\n",
    "torch.cuda.empty_cache()  # speed up evaluating after training finished\n",
    "do_evaluation(cfg, model)"
   ]
  },
  {
   "cell_type": "code",
   "execution_count": null,
   "metadata": {},
   "outputs": [],
   "source": []
  }
 ],
 "metadata": {
  "kernelspec": {
   "display_name": "Python 3",
   "language": "python",
   "name": "python3"
  },
  "language_info": {
   "codemirror_mode": {
    "name": "ipython",
    "version": 3
   },
   "file_extension": ".py",
   "mimetype": "text/x-python",
   "name": "python",
   "nbconvert_exporter": "python",
   "pygments_lexer": "ipython3",
   "version": "3.6.10"
  }
 },
 "nbformat": 4,
 "nbformat_minor": 4
}
