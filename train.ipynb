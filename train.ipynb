{
 "cells": [
  {
   "cell_type": "code",
   "execution_count": 1,
   "metadata": {},
   "outputs": [],
   "source": [
    "%load_ext autoreload"
   ]
  },
  {
   "cell_type": "code",
   "execution_count": 2,
   "metadata": {},
   "outputs": [],
   "source": [
    "%autoreload \n",
    "import logging\n",
    "import os\n",
    "import pathlib\n",
    "import torch\n",
    "from ssd.engine.inference import do_evaluation\n",
    "from ssd.config.defaults import cfg\n",
    "from ssd.utils.logger import setup_logger\n",
    "from train import start_train"
   ]
  },
  {
   "cell_type": "code",
   "execution_count": 3,
   "metadata": {},
   "outputs": [
    {
     "name": "stdout",
     "output_type": "stream",
     "text": [
      "2020-04-11 18:21:44,308 SSD INFO: Loaded configuration file configs/train_waymo.yaml\n",
      "2020-04-11 18:21:44,309 SSD INFO: \n",
      "MODEL:\n",
      "    NUM_CLASSES: 5\n",
      "    BACKBONE:\n",
      "        NAME: 'resnet'   #vgg   #'basic'\n",
      "        PRETRAINED: True\n",
      "        OUT_CHANNELS: [512,1024,2048,512, 256, 128]     #[128, 256, 512, 512, 256, 128]\n",
      "        INPUT_CHANNELS: 3\n",
      "        DEPTH: 50\n",
      "        DROP_BLOCK: False\n",
      "INPUT:\n",
      "    IMAGE_SIZE: 300\n",
      "DATASETS:\n",
      "    TRAIN: (\"waymo_train\",)\n",
      "    TEST: (\"waymo_val\", )\n",
      "SOLVER:\n",
      "    CHOICE: 'SGD'\n",
      "    MAX_ITER:  53000\n",
      "    LR_STEPS: [20000, 400000]\n",
      "    GAMMA: 0.1\n",
      "    BATCH_SIZE: 32\n",
      "    LR: 1.e-2\n",
      "OUTPUT_DIR: 'outputs/res50_new_waymo_sgd_1e_f2_new_aug'  \n",
      "DATASET_DIR: \"datasets\"\n",
      "2020-04-11 18:21:44,309 SSD INFO: Running with config:\n",
      "DATASETS:\n",
      "  TEST: ('waymo_val',)\n",
      "  TRAIN: ('waymo_train',)\n",
      "DATASET_DIR: datasets\n",
      "DATA_LOADER:\n",
      "  NUM_WORKERS: 8\n",
      "  PIN_MEMORY: True\n",
      "EVAL_STEP: 500\n",
      "INPUT:\n",
      "  IMAGE_SIZE: 300\n",
      "  PIXEL_MEAN: [123, 117, 104]\n",
      "LOG_STEP: 10\n",
      "MODEL:\n",
      "  BACKBONE:\n",
      "    AFTER_TRAINED: False\n",
      "    DEPTH: 50\n",
      "    DROP_BLOCK: False\n",
      "    INPUT_CHANNELS: 3\n",
      "    NAME: resnet\n",
      "    OUT_CHANNELS: (512, 1024, 2048, 512, 256, 128)\n",
      "    PRETRAINED: True\n",
      "  BOX_HEAD:\n",
      "    NAME: SSDBoxHead\n",
      "    PREDICTOR: SSDBoxPredictor\n",
      "  CENTER_VARIANCE: 0.1\n",
      "  META_ARCHITECTURE: SSDDetector\n",
      "  NEG_POS_RATIO: 3\n",
      "  NUM_CLASSES: 5\n",
      "  PRIORS:\n",
      "    ASPECT_RATIOS: [[2], [2, 3], [2, 3], [2, 3], [2], [2]]\n",
      "    BOXES_PER_LOCATION: [4, 6, 6, 6, 4, 4]\n",
      "    CLIP: True\n",
      "    FEATURE_MAPS: [38, 19, 10, 5, 3, 1]\n",
      "    MAX_SIZES: [60, 111, 162, 213, 264, 315]\n",
      "    MIN_SIZES: [30, 60, 111, 162, 213, 264]\n",
      "    STRIDES: [8, 16, 32, 64, 100, 300]\n",
      "  SIZE_VARIANCE: 0.2\n",
      "  THRESHOLD: 0.5\n",
      "MODEL_SAVE_STEP: 500\n",
      "OUTPUT_DIR: outputs/res50_new_waymo_sgd_1e_f2_new_aug\n",
      "SOLVER:\n",
      "  BATCH_SIZE: 32\n",
      "  CHOICE: SGD\n",
      "  GAMMA: 0.1\n",
      "  LR: 0.01\n",
      "  LR_STEPS: [20000, 400000]\n",
      "  MAX_ITER: 53000\n",
      "  MOMENTUM: 0.9\n",
      "  WARMUP_FACTOR: 0.3333333333333333\n",
      "  WARMUP_ITERS: 500\n",
      "  WEIGHT_DECAY: 0.0005\n",
      "TEST:\n",
      "  BATCH_SIZE: 10\n",
      "  CONFIDENCE_THRESHOLD: 0.01\n",
      "  MAX_PER_CLASS: -1\n",
      "  MAX_PER_IMAGE: 100\n",
      "  NMS_THRESHOLD: 0.45\n"
     ]
    }
   ],
   "source": [
    "config_file = \"configs/train_waymo.yaml\"   # train_tdt4265.yaml  train_waymo.yaml\n",
    "\n",
    "cfg.merge_from_file(config_file)\n",
    "cfg.freeze()\n",
    "output_dir = pathlib.Path(cfg.OUTPUT_DIR)\n",
    "output_dir.mkdir(exist_ok=True, parents=True)\n",
    "\n",
    "logger = setup_logger(\"SSD\", output_dir)\n",
    "\n",
    "logger.info(\"Loaded configuration file {}\".format(config_file))\n",
    "with open(config_file, \"r\") as cf:\n",
    "    config_str = \"\\n\" + cf.read()\n",
    "    logger.info(config_str)\n",
    "logger.info(\"Running with config:\\n{}\".format(cfg))\n"
   ]
  },
  {
   "cell_type": "code",
   "execution_count": null,
   "metadata": {
    "scrolled": false
   },
   "outputs": [
    {
     "name": "stdout",
     "output_type": "stream",
     "text": [
      "resnet\n",
      "Detector initialized. Total Number of params:  39.55M\n",
      "Backbone number of parameters: 37.52M\n",
      "SSD Head number of parameters: 2.03M\n",
      "2020-04-11 18:21:48,120 SSD.trainer INFO: No checkpoint found.\n",
      "17936\n",
      "Dataset loaded. Subset: train, number of images: 14348\n",
      "2020-04-11 18:21:49,585 SSD.trainer INFO: Start training ...\n",
      "2020-04-11 18:22:14,051 SSD.trainer INFO: iter: 000010, lr: 0.00347, total_loss: 17.765 (17.765), reg_loss: 6.942 (6.942), cls_loss: 10.823 (10.823), time: 2.276 (2.276), eta: 1 day, 9:29:54, mem: 9881M\n",
      "2020-04-11 18:22:25,717 SSD.trainer INFO: iter: 000020, lr: 0.00360, total_loss: 13.533 (15.649), reg_loss: 6.185 (6.564), cls_loss: 7.348 (9.085), time: 1.167 (1.721), eta: 1 day, 1:19:49, mem: 9881M\n",
      "2020-04-11 18:22:37,077 SSD.trainer INFO: iter: 000030, lr: 0.00373, total_loss: 10.803 (14.034), reg_loss: 5.588 (6.239), cls_loss: 5.214 (7.795), time: 1.136 (1.526), eta: 22:27:19, mem: 9881M\n",
      "2020-04-11 18:22:50,116 SSD.trainer INFO: iter: 000040, lr: 0.00387, total_loss: 9.571 (12.918), reg_loss: 5.428 (6.036), cls_loss: 4.143 (6.882), time: 1.304 (1.471), eta: 21:38:00, mem: 9881M\n",
      "2020-04-11 18:23:06,795 SSD.trainer INFO: iter: 000050, lr: 0.00400, total_loss: 8.481 (12.030), reg_loss: 5.175 (5.864), cls_loss: 3.306 (6.167), time: 1.668 (1.510), eta: 22:12:36, mem: 9881M\n",
      "2020-04-11 18:23:18,473 SSD.trainer INFO: iter: 000060, lr: 0.00413, total_loss: 8.113 (11.378), reg_loss: 4.951 (5.712), cls_loss: 3.163 (5.666), time: 1.168 (1.453), eta: 21:22:02, mem: 9881M\n",
      "2020-04-11 18:23:30,237 SSD.trainer INFO: iter: 000070, lr: 0.00427, total_loss: 8.038 (10.901), reg_loss: 4.909 (5.597), cls_loss: 3.129 (5.304), time: 1.176 (1.413), eta: 20:46:55, mem: 9881M\n",
      "2020-04-11 18:23:41,717 SSD.trainer INFO: iter: 000080, lr: 0.00440, total_loss: 7.728 (10.504), reg_loss: 4.689 (5.483), cls_loss: 3.039 (5.021), time: 1.148 (1.380), eta: 20:17:25, mem: 9881M\n",
      "2020-04-11 18:24:01,106 SSD.trainer INFO: iter: 000090, lr: 0.00453, total_loss: 7.473 (10.167), reg_loss: 4.546 (5.379), cls_loss: 2.927 (4.788), time: 1.939 (1.442), eta: 21:11:55, mem: 9881M\n",
      "2020-04-11 18:24:13,689 SSD.trainer INFO: iter: 000100, lr: 0.00467, total_loss: 7.688 (9.919), reg_loss: 4.565 (5.298), cls_loss: 3.123 (4.621), time: 1.258 (1.424), eta: 20:55:27, mem: 9881M\n",
      "2020-04-11 18:24:24,701 SSD.trainer INFO: iter: 000110, lr: 0.00480, total_loss: 7.197 (9.672), reg_loss: 4.286 (5.206), cls_loss: 2.911 (4.466), time: 1.101 (1.395), eta: 20:29:21, mem: 9881M\n",
      "2020-04-11 18:24:36,381 SSD.trainer INFO: iter: 000120, lr: 0.00493, total_loss: 6.946 (9.445), reg_loss: 4.056 (5.110), cls_loss: 2.890 (4.335), time: 1.168 (1.376), eta: 20:12:28, mem: 9881M\n",
      "2020-04-11 18:24:55,849 SSD.trainer INFO: iter: 000130, lr: 0.00507, total_loss: 6.987 (9.256), reg_loss: 4.139 (5.035), cls_loss: 2.848 (4.220), time: 1.947 (1.420), eta: 20:50:57, mem: 9881M\n",
      "2020-04-11 18:25:07,254 SSD.trainer INFO: iter: 000140, lr: 0.00520, total_loss: 6.838 (9.083), reg_loss: 3.987 (4.960), cls_loss: 2.850 (4.122), time: 1.140 (1.400), eta: 20:33:08, mem: 9881M\n",
      "2020-04-11 18:25:18,328 SSD.trainer INFO: iter: 000150, lr: 0.00533, total_loss: 6.926 (8.939), reg_loss: 4.068 (4.901), cls_loss: 2.857 (4.038), time: 1.107 (1.380), eta: 20:15:45, mem: 9881M\n",
      "2020-04-11 18:25:32,260 SSD.trainer INFO: iter: 000160, lr: 0.00547, total_loss: 6.841 (8.808), reg_loss: 3.942 (4.841), cls_loss: 2.899 (3.967), time: 1.393 (1.381), eta: 20:16:14, mem: 9881M\n",
      "2020-04-11 18:25:48,153 SSD.trainer INFO: iter: 000170, lr: 0.00560, total_loss: 6.796 (8.690), reg_loss: 3.960 (4.789), cls_loss: 2.836 (3.900), time: 1.589 (1.393), eta: 20:26:47, mem: 9881M\n",
      "2020-04-11 18:26:01,269 SSD.trainer INFO: iter: 000180, lr: 0.00573, total_loss: 6.734 (8.581), reg_loss: 3.924 (4.741), cls_loss: 2.811 (3.840), time: 1.312 (1.389), eta: 20:22:34, mem: 9881M\n",
      "2020-04-11 18:26:12,493 SSD.trainer INFO: iter: 000190, lr: 0.00587, total_loss: 6.553 (8.474), reg_loss: 3.821 (4.693), cls_loss: 2.732 (3.782), time: 1.122 (1.375), eta: 20:09:59, mem: 9881M\n",
      "2020-04-11 18:26:25,545 SSD.trainer INFO: iter: 000200, lr: 0.00600, total_loss: 6.647 (8.383), reg_loss: 3.848 (4.650), cls_loss: 2.799 (3.732), time: 1.305 (1.371), eta: 20:06:42, mem: 9881M\n",
      "2020-04-11 18:26:43,329 SSD.trainer INFO: iter: 000210, lr: 0.00613, total_loss: 6.566 (8.296), reg_loss: 3.779 (4.609), cls_loss: 2.788 (3.687), time: 1.778 (1.391), eta: 20:23:32, mem: 9881M\n",
      "2020-04-11 18:26:53,967 SSD.trainer INFO: iter: 000220, lr: 0.00627, total_loss: 6.563 (8.218), reg_loss: 3.859 (4.575), cls_loss: 2.704 (3.643), time: 1.064 (1.376), eta: 20:10:14, mem: 9881M\n",
      "2020-04-11 18:27:06,581 SSD.trainer INFO: iter: 000230, lr: 0.00640, total_loss: 6.478 (8.142), reg_loss: 3.763 (4.540), cls_loss: 2.715 (3.602), time: 1.261 (1.371), eta: 20:05:38, mem: 9881M\n",
      "2020-04-11 18:27:22,338 SSD.trainer INFO: iter: 000240, lr: 0.00653, total_loss: 6.531 (8.075), reg_loss: 3.794 (4.508), cls_loss: 2.737 (3.566), time: 1.576 (1.379), eta: 20:12:54, mem: 9881M\n",
      "2020-04-11 18:27:35,959 SSD.trainer INFO: iter: 000250, lr: 0.00667, total_loss: 6.498 (8.012), reg_loss: 3.772 (4.479), cls_loss: 2.726 (3.533), time: 1.362 (1.379), eta: 20:12:04, mem: 9881M\n",
      "2020-04-11 18:27:47,289 SSD.trainer INFO: iter: 000260, lr: 0.00680, total_loss: 6.241 (7.944), reg_loss: 3.544 (4.443), cls_loss: 2.697 (3.501), time: 1.133 (1.369), eta: 20:03:32, mem: 9881M\n",
      "2020-04-11 18:27:59,693 SSD.trainer INFO: iter: 000270, lr: 0.00693, total_loss: 6.287 (7.882), reg_loss: 3.552 (4.410), cls_loss: 2.735 (3.472), time: 1.240 (1.364), eta: 19:59:07, mem: 9881M\n",
      "2020-04-11 18:28:15,035 SSD.trainer INFO: iter: 000280, lr: 0.00707, total_loss: 6.387 (7.829), reg_loss: 3.700 (4.385), cls_loss: 2.687 (3.444), time: 1.534 (1.371), eta: 20:04:13, mem: 9881M\n",
      "2020-04-11 18:28:30,093 SSD.trainer INFO: iter: 000290, lr: 0.00720, total_loss: 6.335 (7.777), reg_loss: 3.667 (4.360), cls_loss: 2.668 (3.417), time: 1.506 (1.375), eta: 20:08:05, mem: 9881M\n",
      "2020-04-11 18:28:41,181 SSD.trainer INFO: iter: 000300, lr: 0.00733, total_loss: 6.253 (7.727), reg_loss: 3.578 (4.334), cls_loss: 2.675 (3.393), time: 1.109 (1.366), eta: 20:00:03, mem: 9881M\n",
      "2020-04-11 18:28:52,611 SSD.trainer INFO: iter: 000310, lr: 0.00747, total_loss: 6.218 (7.678), reg_loss: 3.556 (4.309), cls_loss: 2.662 (3.369), time: 1.143 (1.359), eta: 19:53:30, mem: 9881M\n"
     ]
    }
   ],
   "source": [
    "model = start_train(cfg)"
   ]
  },
  {
   "cell_type": "code",
   "execution_count": null,
   "metadata": {},
   "outputs": [],
   "source": [
    "logger.info('Start evaluating...')\n",
    "torch.cuda.empty_cache()  # speed up evaluating after training finished\n",
    "do_evaluation(cfg, model)"
   ]
  },
  {
   "cell_type": "code",
   "execution_count": null,
   "metadata": {},
   "outputs": [],
   "source": []
  }
 ],
 "metadata": {
  "kernelspec": {
   "display_name": "Python 3",
   "language": "python",
   "name": "python3"
  },
  "language_info": {
   "codemirror_mode": {
    "name": "ipython",
    "version": 3
   },
   "file_extension": ".py",
   "mimetype": "text/x-python",
   "name": "python",
   "nbconvert_exporter": "python",
   "pygments_lexer": "ipython3",
   "version": "3.6.10"
  }
 },
 "nbformat": 4,
 "nbformat_minor": 4
}
