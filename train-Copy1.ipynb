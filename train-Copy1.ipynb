{
 "cells": [
  {
   "cell_type": "code",
   "execution_count": 1,
   "metadata": {},
   "outputs": [],
   "source": [
    "%load_ext autoreload"
   ]
  },
  {
   "cell_type": "code",
   "execution_count": 2,
   "metadata": {},
   "outputs": [],
   "source": [
    "%autoreload \n",
    "import logging\n",
    "import os\n",
    "import pathlib\n",
    "import torch\n",
    "from ssd.engine.inference import do_evaluation\n",
    "from ssd.config.defaults import cfg\n",
    "from ssd.utils.logger import setup_logger\n",
    "from train import start_train"
   ]
  },
  {
   "cell_type": "code",
   "execution_count": 3,
   "metadata": {},
   "outputs": [],
   "source": [
    " os.environ[\"CUDA_VISIBLE_DEVICES\"] = \"1\""
   ]
  },
  {
   "cell_type": "code",
   "execution_count": 4,
   "metadata": {
    "scrolled": false
   },
   "outputs": [
    {
     "name": "stdout",
     "output_type": "stream",
     "text": [
      "2020-04-11 15:26:35,088 SSD INFO: Loaded configuration file configs/train_waymo_Copy1.yaml\n",
      "2020-04-11 15:26:35,090 SSD INFO: \n",
      "MODEL:\n",
      "    NUM_CLASSES: 5\n",
      "    BACKBONE:\n",
      "        NAME: 'resnet'   #vgg   #'basic'\n",
      "        PRETRAINED: True\n",
      "        OUT_CHANNELS: [512,1024,2048,512, 256, 128]    #[128, 256, 512, 512, 256, 128]\n",
      "        INPUT_CHANNELS: 3\n",
      "        DEPTH: 50\n",
      "INPUT:\n",
      "    IMAGE_SIZE: 300\n",
      "DATASETS:\n",
      "    TRAIN: (\"waymo_train\",)\n",
      "    TEST: (\"waymo_val\", )\n",
      "SOLVER:\n",
      "    CHOICE: 'SGD'\n",
      "    MAX_ITER:  53000\n",
      "    LR_STEPS: [20000, 400000]\n",
      "    GAMMA: 0.1\n",
      "    BATCH_SIZE: 32\n",
      "    LR: 1.e-2\n",
      "OUTPUT_DIR: 'outputs/res50_new_waymo_sgd_1e_f2_drop_block' \n",
      "DATASET_DIR: \"datasets\"\n",
      "2020-04-11 15:26:35,093 SSD INFO: Running with config:\n",
      "DATASETS:\n",
      "  TEST: ('waymo_val',)\n",
      "  TRAIN: ('waymo_train',)\n",
      "DATASET_DIR: datasets\n",
      "DATA_LOADER:\n",
      "  NUM_WORKERS: 8\n",
      "  PIN_MEMORY: True\n",
      "EVAL_STEP: 500\n",
      "INPUT:\n",
      "  IMAGE_SIZE: 300\n",
      "  PIXEL_MEAN: [123, 117, 104]\n",
      "LOG_STEP: 10\n",
      "MODEL:\n",
      "  BACKBONE:\n",
      "    AFTER_TRAINED: False\n",
      "    DEPTH: 50\n",
      "    INPUT_CHANNELS: 3\n",
      "    NAME: resnet\n",
      "    OUT_CHANNELS: (512, 1024, 2048, 512, 256, 128)\n",
      "    PRETRAINED: True\n",
      "  BOX_HEAD:\n",
      "    NAME: SSDBoxHead\n",
      "    PREDICTOR: SSDBoxPredictor\n",
      "  CENTER_VARIANCE: 0.1\n",
      "  META_ARCHITECTURE: SSDDetector\n",
      "  NEG_POS_RATIO: 3\n",
      "  NUM_CLASSES: 5\n",
      "  PRIORS:\n",
      "    ASPECT_RATIOS: [[2], [2, 3], [2, 3], [2, 3], [2], [2]]\n",
      "    BOXES_PER_LOCATION: [4, 6, 6, 6, 4, 4]\n",
      "    CLIP: True\n",
      "    FEATURE_MAPS: [38, 19, 10, 5, 3, 1]\n",
      "    MAX_SIZES: [60, 111, 162, 213, 264, 315]\n",
      "    MIN_SIZES: [30, 60, 111, 162, 213, 264]\n",
      "    STRIDES: [8, 16, 32, 64, 100, 300]\n",
      "  SIZE_VARIANCE: 0.2\n",
      "  THRESHOLD: 0.5\n",
      "MODEL_SAVE_STEP: 500\n",
      "OUTPUT_DIR: outputs/res50_new_waymo_sgd_1e_f2_drop_block\n",
      "SOLVER:\n",
      "  BATCH_SIZE: 32\n",
      "  CHOICE: SGD\n",
      "  GAMMA: 0.1\n",
      "  LR: 0.01\n",
      "  LR_STEPS: [20000, 400000]\n",
      "  MAX_ITER: 53000\n",
      "  MOMENTUM: 0.9\n",
      "  WARMUP_FACTOR: 0.3333333333333333\n",
      "  WARMUP_ITERS: 500\n",
      "  WEIGHT_DECAY: 0.0005\n",
      "TEST:\n",
      "  BATCH_SIZE: 10\n",
      "  CONFIDENCE_THRESHOLD: 0.01\n",
      "  MAX_PER_CLASS: -1\n",
      "  MAX_PER_IMAGE: 100\n",
      "  NMS_THRESHOLD: 0.45\n"
     ]
    }
   ],
   "source": [
    "config_file = \"configs/train_waymo_Copy1.yaml\" #train_waymo_Copy1.yaml\"#vgg_ssd300_voc0712_tdt4265_server.yaml\"\n",
    "\n",
    "cfg.merge_from_file(config_file)\n",
    "cfg.freeze()\n",
    "output_dir = pathlib.Path(cfg.OUTPUT_DIR)\n",
    "output_dir.mkdir(exist_ok=True, parents=True)\n",
    "\n",
    "logger = setup_logger(\"SSD\", output_dir)\n",
    "\n",
    "logger.info(\"Loaded configuration file {}\".format(config_file))\n",
    "with open(config_file, \"r\") as cf:\n",
    "    config_str = \"\\n\" + cf.read()\n",
    "    logger.info(config_str)\n",
    "logger.info(\"Running with config:\\n{}\".format(cfg))\n"
   ]
  },
  {
   "cell_type": "code",
   "execution_count": null,
   "metadata": {
    "scrolled": false
   },
   "outputs": [
    {
     "name": "stdout",
     "output_type": "stream",
     "text": [
      "resnet\n",
      "Detector initialized. Total Number of params:  39.55M\n",
      "Backbone number of parameters: 37.52M\n",
      "SSD Head number of parameters: 2.03M\n",
      "2020-04-11 15:26:54,148 SSD.trainer INFO: No checkpoint found.\n",
      "17936\n",
      "Dataset loaded. Subset: train, number of images: 14348\n",
      "2020-04-11 15:26:55,689 SSD.trainer INFO: Start training ...\n",
      "2020-04-11 15:27:25,450 SSD.trainer INFO: iter: 000010, lr: 0.00347, total_loss: 17.760 (17.760), reg_loss: 7.084 (7.084), cls_loss: 10.676 (10.676), time: 2.788 (2.788), eta: 1 day, 17:02:37, mem: 9881M\n",
      "2020-04-11 15:27:37,779 SSD.trainer INFO: iter: 000020, lr: 0.00360, total_loss: 13.162 (15.461), reg_loss: 6.024 (6.554), cls_loss: 7.138 (8.907), time: 1.233 (2.011), eta: 1 day, 5:35:25, mem: 9881M\n",
      "2020-04-11 15:27:52,022 SSD.trainer INFO: iter: 000030, lr: 0.00373, total_loss: 10.711 (13.878), reg_loss: 5.568 (6.225), cls_loss: 5.143 (7.652), time: 1.424 (1.815), eta: 1 day, 2:42:31, mem: 9881M\n",
      "2020-04-11 15:28:06,027 SSD.trainer INFO: iter: 000040, lr: 0.00387, total_loss: 9.414 (12.762), reg_loss: 5.369 (6.011), cls_loss: 4.045 (6.750), time: 1.401 (1.712), eta: 1 day, 1:10:43, mem: 9881M\n",
      "2020-04-11 15:28:24,561 SSD.trainer INFO: iter: 000050, lr: 0.00400, total_loss: 8.544 (11.918), reg_loss: 5.163 (5.842), cls_loss: 3.381 (6.076), time: 1.853 (1.740), eta: 1 day, 1:35:28, mem: 9881M\n",
      "2020-04-11 15:28:37,258 SSD.trainer INFO: iter: 000060, lr: 0.00413, total_loss: 7.820 (11.235), reg_loss: 4.742 (5.658), cls_loss: 3.078 (5.577), time: 1.270 (1.662), eta: 1 day, 0:26:01, mem: 9881M\n",
      "2020-04-11 15:28:49,529 SSD.trainer INFO: iter: 000070, lr: 0.00427, total_loss: 7.670 (10.726), reg_loss: 4.632 (5.512), cls_loss: 3.038 (5.214), time: 1.227 (1.599), eta: 23:31:00, mem: 9881M\n",
      "2020-04-11 15:28:59,177 SSD.trainer INFO: iter: 000080, lr: 0.00440, total_loss: 7.389 (10.309), reg_loss: 4.442 (5.378), cls_loss: 2.946 (4.931), time: 0.965 (1.520), eta: 22:20:46, mem: 9881M\n",
      "2020-04-11 15:29:18,205 SSD.trainer INFO: iter: 000090, lr: 0.00453, total_loss: 7.155 (9.958), reg_loss: 4.239 (5.252), cls_loss: 2.915 (4.707), time: 1.903 (1.563), eta: 22:58:00, mem: 9881M\n"
     ]
    }
   ],
   "source": [
    "model = start_train(cfg)"
   ]
  },
  {
   "cell_type": "code",
   "execution_count": null,
   "metadata": {},
   "outputs": [],
   "source": [
    "logger.info('Start evaluating...')\n",
    "torch.cuda.empty_cache()  # speed up evaluating after training finished\n",
    "do_evaluation(cfg, model)"
   ]
  },
  {
   "cell_type": "code",
   "execution_count": null,
   "metadata": {},
   "outputs": [],
   "source": []
  }
 ],
 "metadata": {
  "kernelspec": {
   "display_name": "Python 3",
   "language": "python",
   "name": "python3"
  },
  "language_info": {
   "codemirror_mode": {
    "name": "ipython",
    "version": 3
   },
   "file_extension": ".py",
   "mimetype": "text/x-python",
   "name": "python",
   "nbconvert_exporter": "python",
   "pygments_lexer": "ipython3",
   "version": "3.6.10"
  }
 },
 "nbformat": 4,
 "nbformat_minor": 4
}
