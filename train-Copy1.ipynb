{
 "cells": [
  {
   "cell_type": "code",
   "execution_count": 1,
   "metadata": {},
   "outputs": [],
   "source": [
    "%load_ext autoreload"
   ]
  },
  {
   "cell_type": "code",
   "execution_count": 2,
   "metadata": {},
   "outputs": [],
   "source": [
    "%autoreload \n",
    "import logging\n",
    "import os\n",
    "import pathlib\n",
    "import torch\n",
    "from ssd.engine.inference import do_evaluation\n",
    "from ssd.config.defaults import cfg\n",
    "from ssd.utils.logger import setup_logger\n",
    "from train import start_train"
   ]
  },
  {
   "cell_type": "code",
   "execution_count": 3,
   "metadata": {},
   "outputs": [],
   "source": [
    " os.environ[\"CUDA_VISIBLE_DEVICES\"] = \"1\""
   ]
  },
  {
   "cell_type": "code",
   "execution_count": 4,
   "metadata": {
    "scrolled": false
   },
   "outputs": [
    {
     "name": "stdout",
     "output_type": "stream",
     "text": [
      "2020-04-10 11:02:32,777 SSD INFO: Loaded configuration file configs/train_waymo_Copy1.yaml\n",
      "2020-04-10 11:02:32,778 SSD INFO: \n",
      "MODEL:\n",
      "    NUM_CLASSES: 5\n",
      "    BACKBONE:\n",
      "        NAME: 'resnet'   #vgg   #'basic'\n",
      "        PRETRAINED: True\n",
      "        OUT_CHANNELS: [512,1024,2048,512, 256, 128]    #[128, 256, 512, 512, 256, 128]\n",
      "        INPUT_CHANNELS: 3\n",
      "        DEPTH: 50\n",
      "INPUT:\n",
      "    IMAGE_SIZE: 300\n",
      "DATASETS:\n",
      "    TRAIN: (\"waymo_train\",)\n",
      "    TEST: (\"waymo_val\", )\n",
      "SOLVER:\n",
      "    CHOICE: 'Adam'\n",
      "    MAX_ITER: 65000\n",
      "    LR_STEPS: [40000, 55000]\n",
      "    GAMMA: 0.2\n",
      "    BATCH_SIZE: 32\n",
      "    LR: 1.5e-4\n",
      "OUTPUT_DIR: 'outputs/res50_new_waymo_Adam_1_5e_f4' \n",
      "DATASET_DIR: \"datasets\"\n",
      "2020-04-10 11:02:32,779 SSD INFO: Running with config:\n",
      "DATASETS:\n",
      "  TEST: ('waymo_val',)\n",
      "  TRAIN: ('waymo_train',)\n",
      "DATASET_DIR: datasets\n",
      "DATA_LOADER:\n",
      "  NUM_WORKERS: 8\n",
      "  PIN_MEMORY: True\n",
      "EVAL_STEP: 500\n",
      "INPUT:\n",
      "  IMAGE_SIZE: 300\n",
      "  PIXEL_MEAN: [123, 117, 104]\n",
      "LOG_STEP: 10\n",
      "MODEL:\n",
      "  BACKBONE:\n",
      "    AFTER_TRAINED: False\n",
      "    DEPTH: 50\n",
      "    INPUT_CHANNELS: 3\n",
      "    NAME: resnet\n",
      "    OUT_CHANNELS: (512, 1024, 2048, 512, 256, 128)\n",
      "    PRETRAINED: True\n",
      "  BOX_HEAD:\n",
      "    NAME: SSDBoxHead\n",
      "    PREDICTOR: SSDBoxPredictor\n",
      "  CENTER_VARIANCE: 0.1\n",
      "  META_ARCHITECTURE: SSDDetector\n",
      "  NEG_POS_RATIO: 3\n",
      "  NUM_CLASSES: 5\n",
      "  PRIORS:\n",
      "    ASPECT_RATIOS: [[2], [2, 3], [2, 3], [2, 3], [2], [2]]\n",
      "    BOXES_PER_LOCATION: [4, 6, 6, 6, 4, 4]\n",
      "    CLIP: True\n",
      "    FEATURE_MAPS: [38, 19, 10, 5, 3, 1]\n",
      "    MAX_SIZES: [60, 111, 162, 213, 264, 315]\n",
      "    MIN_SIZES: [30, 60, 111, 162, 213, 264]\n",
      "    STRIDES: [8, 16, 32, 64, 100, 300]\n",
      "  SIZE_VARIANCE: 0.2\n",
      "  THRESHOLD: 0.5\n",
      "MODEL_SAVE_STEP: 500\n",
      "OUTPUT_DIR: outputs/res50_new_waymo_Adam_1_5e_f4\n",
      "SOLVER:\n",
      "  BATCH_SIZE: 32\n",
      "  CHOICE: Adam\n",
      "  GAMMA: 0.2\n",
      "  LR: 0.00015\n",
      "  LR_STEPS: [40000, 55000]\n",
      "  MAX_ITER: 65000\n",
      "  MOMENTUM: 0.9\n",
      "  WARMUP_FACTOR: 0.3333333333333333\n",
      "  WARMUP_ITERS: 500\n",
      "  WEIGHT_DECAY: 0.0005\n",
      "TEST:\n",
      "  BATCH_SIZE: 10\n",
      "  CONFIDENCE_THRESHOLD: 0.01\n",
      "  MAX_PER_CLASS: -1\n",
      "  MAX_PER_IMAGE: 100\n",
      "  NMS_THRESHOLD: 0.45\n"
     ]
    }
   ],
   "source": [
    "config_file = \"configs/train_waymo_Copy1.yaml\" #train_waymo_Copy1.yaml\"#vgg_ssd300_voc0712_tdt4265_server.yaml\"\n",
    "\n",
    "cfg.merge_from_file(config_file)\n",
    "cfg.freeze()\n",
    "output_dir = pathlib.Path(cfg.OUTPUT_DIR)\n",
    "output_dir.mkdir(exist_ok=True, parents=True)\n",
    "\n",
    "logger = setup_logger(\"SSD\", output_dir)\n",
    "\n",
    "logger.info(\"Loaded configuration file {}\".format(config_file))\n",
    "with open(config_file, \"r\") as cf:\n",
    "    config_str = \"\\n\" + cf.read()\n",
    "    logger.info(config_str)\n",
    "logger.info(\"Running with config:\\n{}\".format(cfg))\n"
   ]
  },
  {
   "cell_type": "code",
   "execution_count": null,
   "metadata": {
    "scrolled": false
   },
   "outputs": [
    {
     "name": "stdout",
     "output_type": "stream",
     "text": [
      "resnet\n",
      "Detector initialized. Total Number of params:  39.55M\n",
      "Backbone number of parameters: 37.52M\n",
      "SSD Head number of parameters: 2.03M\n",
      "2020-04-10 11:02:37,047 SSD.trainer INFO: No checkpoint found.\n"
     ]
    }
   ],
   "source": [
    "model = start_train(cfg)"
   ]
  },
  {
   "cell_type": "code",
   "execution_count": null,
   "metadata": {},
   "outputs": [],
   "source": [
    "logger.info('Start evaluating...')\n",
    "torch.cuda.empty_cache()  # speed up evaluating after training finished\n",
    "do_evaluation(cfg, model)"
   ]
  },
  {
   "cell_type": "code",
   "execution_count": null,
   "metadata": {},
   "outputs": [],
   "source": []
  }
 ],
 "metadata": {
  "kernelspec": {
   "display_name": "Python 3",
   "language": "python",
   "name": "python3"
  },
  "language_info": {
   "codemirror_mode": {
    "name": "ipython",
    "version": 3
   },
   "file_extension": ".py",
   "mimetype": "text/x-python",
   "name": "python",
   "nbconvert_exporter": "python",
   "pygments_lexer": "ipython3",
   "version": "3.6.10"
  }
 },
 "nbformat": 4,
 "nbformat_minor": 4
}
